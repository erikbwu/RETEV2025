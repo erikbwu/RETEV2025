{
 "cells": [
  {
   "cell_type": "markdown",
   "id": "efab7544",
   "metadata": {},
   "source": [
    "# Analyze the EEG data using MNE-Python\n",
    "\n",
    "Basic tools to analyze the EEG data"
   ]
  },
  {
   "cell_type": "code",
   "execution_count": null,
   "id": "64bfca14",
   "metadata": {
    "ExecuteTime": {
     "end_time": "2025-05-17T11:10:57.788797Z",
     "start_time": "2025-05-17T11:10:57.785621Z"
    }
   },
   "outputs": [],
   "source": [
    "# %matplotlib widget\n",
    "# %cd .."
   ]
  },
  {
   "cell_type": "code",
   "execution_count": null,
   "id": "d17e3cfc",
   "metadata": {
    "ExecuteTime": {
     "end_time": "2025-05-17T11:10:57.897729Z",
     "start_time": "2025-05-17T11:10:57.895138Z"
    }
   },
   "outputs": [],
   "source": [
    "import os\n",
    "import numpy as np\n",
    "import mne\n",
    "import matplotlib.pyplot as plt\n",
    "import ipywidgets as widgets"
   ]
  },
  {
   "cell_type": "markdown",
   "id": "b31a196b",
   "metadata": {},
   "source": [
    "## load the data"
   ]
  },
  {
   "cell_type": "code",
   "execution_count": null,
   "id": "6f38129e",
   "metadata": {
    "ExecuteTime": {
     "end_time": "2025-05-17T11:10:57.962111Z",
     "start_time": "2025-05-17T11:10:57.948008Z"
    }
   },
   "outputs": [],
   "source": [
    "relative_fif_path = \"/data/datasets/fif/sub-04/sub-04_run-004_key_log.fif\"\n",
    "\n",
    "possible_base_paths = [os.getcwd(), os.getcwd() + '/RETEV2025/', os.getcwd() + '/../', '']\n",
    "possible_fif_file_paths = [base_path + relative_fif_path for base_path in possible_base_paths]\n",
    "existing_fif_file_paths = [path for path in possible_fif_file_paths if os.path.exists(path)]\n",
    "assert len(existing_fif_file_paths) != 0, f\"File not found. Given relative path {relative_fif_path}. None of the following absolute paths exists {\", \".join(possible_fif_file_paths)}. Start your python \"\n",
    "fif_file_path = existing_fif_file_paths[0]\n",
    "assert os.path.exists(fif_file_path), \"File not found (this should not occur)\"\n",
    "\n",
    "raw = mne.io.read_raw_fif(fif_file_path, verbose=False, preload=True)\n",
    "raw"
   ]
  },
  {
   "cell_type": "code",
   "execution_count": null,
   "id": "79b62b2d",
   "metadata": {
    "ExecuteTime": {
     "end_time": "2025-05-17T11:10:58.135415Z",
     "start_time": "2025-05-17T11:10:58.081529Z"
    }
   },
   "outputs": [],
   "source": [
    "# signal preprocessing - only relevant for raw data\n",
    "raw = raw.notch_filter(freqs=[50], picks=\"eeg\")\n",
    "raw = raw.filter(l_freq=0.1, h_freq=40, picks=\"eeg\")\n",
    "# raw.drop_channels('Cz')  # drop channels if needed\n",
    "\n",
    "# whiten the data"
   ]
  },
  {
   "cell_type": "code",
   "execution_count": null,
   "id": "a1bde311",
   "metadata": {
    "ExecuteTime": {
     "end_time": "2025-05-17T11:10:58.409996Z",
     "start_time": "2025-05-17T11:10:58.399086Z"
    }
   },
   "outputs": [],
   "source": [
    "# epochs\n",
    "epochs = mne.Epochs(\n",
    "    raw,\n",
    "    mne.find_events(raw, stim_channel='stimulus'),\n",
    "    baseline=(None, 0),\n",
    "    detrend=1,\n",
    "    reject=dict(eeg=300e-6)  # reject epochs with high peak-to-peak amplitude\n",
    ")\n",
    "\n",
    "# split in two groups to compare intra variance\n",
    "epochs1 = epochs[::2]\n",
    "epochs2 = epochs[1::2]\n",
    "epochs"
   ]
  },
  {
   "cell_type": "code",
   "execution_count": null,
   "id": "709c1109",
   "metadata": {
    "ExecuteTime": {
     "end_time": "2025-05-17T11:10:58.562516Z",
     "start_time": "2025-05-17T11:10:58.462833Z"
    }
   },
   "outputs": [],
   "source": [
    "# average the epochs time-locked to the key event to create Event-Related Potentials (ERPs)\n",
    "evoked = epochs.average()\n",
    "evoked1 = epochs1.average()\n",
    "evoked2 = epochs2.average()\n",
    "evoked\n",
    "print(evoked)"
   ]
  },
  {
   "cell_type": "markdown",
   "id": "1bf5b5dc",
   "metadata": {},
   "source": [
    "## Simple plots of the raw data"
   ]
  },
  {
   "cell_type": "code",
   "execution_count": null,
   "id": "b2532c3a",
   "metadata": {
    "ExecuteTime": {
     "end_time": "2025-05-17T11:10:58.572790Z",
     "start_time": "2025-05-17T11:10:58.571302Z"
    }
   },
   "outputs": [],
   "source": [
    "# simple visualization of the EEG data around a key event\n",
    "# epochs[:10].plot(picks='eeg', show_scrollbars=False, show_scalebars=False, show=False)"
   ]
  },
  {
   "cell_type": "code",
   "execution_count": null,
   "id": "9c8f1a4c",
   "metadata": {
    "ExecuteTime": {
     "end_time": "2025-05-17T11:23:44.409604Z",
     "start_time": "2025-05-17T11:23:44.302325Z"
    }
   },
   "outputs": [],
   "source": [
    "# simple data visualization of a 2sec segment\n",
    "data = raw.get_data(picks='eeg')\n",
    "\n",
    "# get indices of stimulus events\n",
    "events = mne.find_events(raw, stim_channel='stimulus')\n",
    "events = events[:, 0]\n",
    "\n",
    "def plot(offset=0):\n",
    "    k = 1\n",
    "    event = events[int(k/2) + offset]\n",
    "    \n",
    "    times = raw.times\n",
    "    duration = 2*k\n",
    "    samples = int(duration * raw.info['sfreq'])\n",
    "    start = int(event - samples / 2)\n",
    "    end = int(event + samples / 2)\n",
    "    \n",
    "    fig, ax = plt.subplots(figsize=(16, 4))\n",
    "    for i, ch in enumerate(data):\n",
    "        ch_name = raw.ch_names[i]\n",
    "        ax.plot(times[start:end], ch[start:end], label=ch_name)\n",
    "    \n",
    "    \n",
    "    \n",
    "    for i in range(k):\n",
    "        plt.axvline(x=events[i+offset] / raw.info['sfreq'], color='r', linestyle='--', label='Event' + str(i+offset))\n",
    "    \n",
    "    plt.title(\"Raw Data\")\n",
    "    plt.xlabel(\"Time (s)\")\n",
    "    plt.ylabel(\"Amplitude (V)\")\n",
    "    plt.legend()\n",
    "    plt.show()\n",
    "    \n",
    "widgets.interact(plot, offset=widgets.IntSlider(min=0, max=len(events)-1, step=1, value=0))"
   ]
  },
  {
   "cell_type": "markdown",
   "id": "fa98a6f1",
   "metadata": {},
   "source": [
    "## Frequency analysis"
   ]
  },
  {
   "cell_type": "code",
   "execution_count": null,
   "id": "e5d86bad",
   "metadata": {
    "ExecuteTime": {
     "end_time": "2025-05-17T11:10:58.852474Z",
     "start_time": "2025-05-17T11:10:58.773736Z"
    }
   },
   "outputs": [],
   "source": [
    "psd_kwargs = dict(fmin=0.1, fmax=60.0)\n",
    "psd1 = epochs1.compute_psd(**psd_kwargs)\n",
    "psd2 = epochs2.compute_psd(**psd_kwargs)"
   ]
  },
  {
   "cell_type": "code",
   "execution_count": null,
   "id": "ba4e5965",
   "metadata": {
    "ExecuteTime": {
     "end_time": "2025-05-17T11:10:59.124992Z",
     "start_time": "2025-05-17T11:10:58.862743Z"
    }
   },
   "outputs": [],
   "source": [
    "psd1.plot(average=False, spatial_colors=True, show=False)\n",
    "psd2.plot(average=False, spatial_colors=True, show=False)\n",
    "plt.show()"
   ]
  },
  {
   "cell_type": "code",
   "execution_count": null,
   "id": "b6eb3c2c",
   "metadata": {
    "ExecuteTime": {
     "end_time": "2025-05-17T11:10:59.771051Z",
     "start_time": "2025-05-17T11:10:59.136271Z"
    }
   },
   "outputs": [],
   "source": [
    "bands = {\n",
    "    \"Delta (0-4 Hz)\": (0, 4),\n",
    "    \"Theta (4-8 Hz)\": (4, 8),\n",
    "    \"Alpha (8-12 Hz)\": (8, 12),\n",
    "    \"Beta (12-30 Hz)\": (12, 30),\n",
    "    \"Gamma (30-45 Hz)\": (30, 45),\n",
    "}\n",
    "\n",
    "psd1.plot_topomap(bands, ch_type='eeg', show=False)\n",
    "psd2.plot_topomap(bands, ch_type='eeg', show=False)\n",
    "plt.show()"
   ]
  },
  {
   "cell_type": "markdown",
   "id": "4d91bd73",
   "metadata": {},
   "source": [
    "## Plot ERPs"
   ]
  },
  {
   "cell_type": "code",
   "execution_count": null,
   "id": "ff1bea7e",
   "metadata": {
    "ExecuteTime": {
     "end_time": "2025-05-17T11:10:59.784046Z",
     "start_time": "2025-05-17T11:10:59.781228Z"
    }
   },
   "outputs": [],
   "source": [
    "def snr_var(evoked: mne.Evoked, win=0.1):\n",
    "    \"\"\" calculate the SNR as the ratio of variance of signal to variance of noise\n",
    "    by computing the variance of pre and post stimulus onset window. \n",
    "    \"\"\"\n",
    "\n",
    "    assert win <= -1 * evoked.tmin, 'Window size aceeds the epoch length'\n",
    "\n",
    "    # get the data\n",
    "    data = evoked.get_data()\n",
    "\n",
    "    # get the index of the window\n",
    "    onset_idx = int((-1 * evoked.tmin) * evoked.info['sfreq'])\n",
    "    win_idx = int(win * evoked.info['sfreq'])\n",
    "\n",
    "    # get the signal and noise windows\n",
    "    signal = data[:, onset_idx:onset_idx + win_idx-1]\n",
    "    noise  = data[:, onset_idx - win_idx:onset_idx-1]\n",
    "\n",
    "    # compute the variance of signal and noise\n",
    "    signal_var = np.var(signal, axis=-1)\n",
    "    noise_var = np.var(noise, axis=-1)\n",
    "\n",
    "    # compute the SNRs\n",
    "    snr = signal_var / noise_var\n",
    "\n",
    "    # get the average SNR over channels\n",
    "    avg_snr = np.mean(snr, axis=0)\n",
    "    std_snr = np.std(snr, axis=0)\n",
    "\n",
    "    return avg_snr, std_snr"
   ]
  },
  {
   "cell_type": "code",
   "execution_count": null,
   "id": "6c664394",
   "metadata": {
    "ExecuteTime": {
     "end_time": "2025-05-17T11:11:00.133533Z",
     "start_time": "2025-05-17T11:10:59.827566Z"
    }
   },
   "outputs": [],
   "source": [
    "fig, axs = plt.subplots(1, 2, figsize=(16, 4), dpi=200)\n",
    "\n",
    "evoked1.plot(spatial_colors=True, gfp=True, axes=axs[0], show=False)\n",
    "axs[0].axvline(x=0, color='r', linestyle='--', label='Key Event')\n",
    "snr_avg, snr_std = snr_var(evoked1, win=0.2)\n",
    "axs[0].text(0.95, 0.95, f'SNR: {snr_avg:.2f} ± {snr_std:.2f}', transform=axs[0].transAxes, \n",
    "    verticalalignment='top', horizontalalignment='right', bbox=dict(facecolor='white', alpha=0.5))\n",
    "\n",
    "evoked2.plot(spatial_colors=True, gfp=True, axes=axs[1], show=False)\n",
    "axs[1].axvline(x=0, color='r', linestyle='--', label='Key Event')\n",
    "snr_avg, snr_std = snr_var(evoked2, win=0.2)\n",
    "axs[1].text(0.95, 0.95, f'SNR: {snr_avg:.2f} ± {snr_std:.2f}', transform=axs[1].transAxes, \n",
    "    verticalalignment='top', horizontalalignment='right', bbox=dict(facecolor='white', alpha=0.5))\n",
    "plt.show()\n",
    "print()"
   ]
  },
  {
   "cell_type": "markdown",
   "id": "aab6c481",
   "metadata": {},
   "source": [
    "## Time-Frequency Analysis"
   ]
  },
  {
   "cell_type": "code",
   "execution_count": null,
   "id": "85d1131e",
   "metadata": {
    "ExecuteTime": {
     "end_time": "2025-05-17T11:11:00.510439Z",
     "start_time": "2025-05-17T11:11:00.147024Z"
    }
   },
   "outputs": [],
   "source": [
    "# compute TFR\n",
    "freqs = np.logspace(*np.log10([8, 35]), num=32)\n",
    "n_cycles = 1 + freqs / 4.0\n",
    "tfr_kwargs = dict(\n",
    "    method=\"morlet\",\n",
    "    freqs=freqs,\n",
    "    n_cycles=n_cycles,\n",
    "    average=True,\n",
    "    return_itc=True,\n",
    "    use_fft=True,\n",
    "    decim=4,\n",
    ")\n",
    "\n",
    "power1, itc1 = epochs1.compute_tfr(**tfr_kwargs)\n",
    "power2, itc2 = epochs2.compute_tfr(**tfr_kwargs)"
   ]
  },
  {
   "cell_type": "markdown",
   "id": "7540fee1",
   "metadata": {},
   "source": [
    "### Time-Frequency Spectrogram"
   ]
  },
  {
   "cell_type": "code",
   "execution_count": null,
   "id": "6b4ed93f",
   "metadata": {
    "ExecuteTime": {
     "end_time": "2025-05-17T11:11:01.226637Z",
     "start_time": "2025-05-17T11:11:00.518830Z"
    }
   },
   "outputs": [],
   "source": [
    "channels = len(power1.ch_names)\n",
    "fig, axs = plt.subplots(2, channels, figsize=(20, 6), dpi=200, sharey=True, sharex=True)\n",
    "fig.tight_layout(pad=5.0)\n",
    "plot_kw = dict(mode=\"zlogratio\", baseline=None, verbose=False, show=False, colorbar=False)\n",
    "\n",
    "for i in range(channels):\n",
    "    power2.plot(picks=[i], title=power2.ch_names[i], axes=axs[0][i], **plot_kw)\n",
    "    axs[0][i].set_title(power2.ch_names[i])\n",
    "\n",
    "for i in range(channels):\n",
    "    power2.plot(picks=[i], title=power2.ch_names[i], axes=axs[1][i], **plot_kw)\n",
    "    axs[1][i].set_title(power2.ch_names[i])\n",
    "\n",
    "plt.show()"
   ]
  },
  {
   "cell_type": "markdown",
   "id": "eb8fd96c",
   "metadata": {},
   "source": [
    "### Frequency-Band Topoplots"
   ]
  },
  {
   "cell_type": "code",
   "execution_count": null,
   "id": "b5cd4f6e",
   "metadata": {
    "ExecuteTime": {
     "end_time": "2025-05-17T11:11:01.587673Z",
     "start_time": "2025-05-17T11:11:01.235909Z"
    }
   },
   "outputs": [],
   "source": [
    "# plot TFRs\n",
    "plt.style.use(\"default\")\n",
    "fig, ax = plt.subplots(2, 2, figsize=(8, 8), dpi=150)\n",
    "fig.tight_layout(pad=5.0)\n",
    "topomap_kw = dict(ch_type=\"eeg\", baseline=None, mode=\"logratio\", show=False, cmap=\"jet\")\n",
    "\n",
    "alpha, beta = dict(fmin=8,  fmax=12), dict(fmin=13, fmax=30)\n",
    "\n",
    "power1.plot_topomap(axes=ax[0, 0], **alpha, **topomap_kw)\n",
    "power1.plot_topomap(axes=ax[0, 1], **beta, **topomap_kw)\n",
    "ax[0, 0].set_title(f'Epoch1 - Alpha')\n",
    "ax[0, 1].set_title(f'Epoch1 - Beta')\n",
    "\n",
    "power2.plot_topomap(axes=ax[1, 0], **alpha, **topomap_kw)\n",
    "power2.plot_topomap(axes=ax[1, 1], **beta, **topomap_kw)\n",
    "ax[1, 0].set_title(f'Epoch2 - Alpha')\n",
    "ax[1, 1].set_title(f'Epoch2 - Beta')\n",
    "\n",
    "plt.tight_layout()\n",
    "plt.show()"
   ]
  }
 ],
 "metadata": {
  "kernelspec": {
   "display_name": "Python 3 (ipykernel)",
   "language": "python",
   "name": "python3"
  },
  "language_info": {
   "codemirror_mode": {
    "name": "ipython",
    "version": 3
   },
   "file_extension": ".py",
   "mimetype": "text/x-python",
   "name": "python",
   "nbconvert_exporter": "python",
   "pygments_lexer": "ipython3",
   "version": "3.13.3"
  }
 },
 "nbformat": 4,
 "nbformat_minor": 5
}
